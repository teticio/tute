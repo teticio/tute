{
 "cells": [
  {
   "cell_type": "code",
   "execution_count": 1,
   "id": "47c9c0d5",
   "metadata": {},
   "outputs": [],
   "source": [
    "%load_ext autoreload\n",
    "%autoreload 2"
   ]
  },
  {
   "cell_type": "code",
   "execution_count": 9,
   "id": "b25d3afe",
   "metadata": {},
   "outputs": [],
   "source": [
    "import os\n",
    "import sys\n",
    "sys.path.insert(0, os.path.dirname(os.path.abspath(\"\")))"
   ]
  },
  {
   "cell_type": "code",
   "execution_count": 10,
   "id": "9f76070f",
   "metadata": {},
   "outputs": [],
   "source": [
    "import rlcard\n",
    "from rlcard.agents import RandomAgent"
   ]
  },
  {
   "cell_type": "code",
   "execution_count": 11,
   "id": "1ee23bce",
   "metadata": {},
   "outputs": [],
   "source": [
    "import tute.rlcard"
   ]
  },
  {
   "cell_type": "code",
   "execution_count": 14,
   "id": "51dee8aa",
   "metadata": {},
   "outputs": [],
   "source": [
    "env = rlcard.make('tute')"
   ]
  },
  {
   "cell_type": "code",
   "execution_count": 15,
   "id": "e9f981bb",
   "metadata": {},
   "outputs": [
    {
     "name": "stdout",
     "output_type": "stream",
     "text": [
      "Number of actions: None\n",
      "Number of players: 2\n"
     ]
    },
    {
     "ename": "AttributeError",
     "evalue": "'TuteEnv' object has no attribute 'state_shape'",
     "output_type": "error",
     "traceback": [
      "\u001b[0;31m---------------------------------------------------------------------------\u001b[0m",
      "\u001b[0;31mAttributeError\u001b[0m                            Traceback (most recent call last)",
      "Input \u001b[0;32mIn [15]\u001b[0m, in \u001b[0;36m<cell line: 3>\u001b[0;34m()\u001b[0m\n\u001b[1;32m      1\u001b[0m \u001b[38;5;28mprint\u001b[39m(\u001b[38;5;124m\"\u001b[39m\u001b[38;5;124mNumber of actions:\u001b[39m\u001b[38;5;124m\"\u001b[39m, env\u001b[38;5;241m.\u001b[39mnum_actions)\n\u001b[1;32m      2\u001b[0m \u001b[38;5;28mprint\u001b[39m(\u001b[38;5;124m\"\u001b[39m\u001b[38;5;124mNumber of players:\u001b[39m\u001b[38;5;124m\"\u001b[39m, env\u001b[38;5;241m.\u001b[39mnum_players)\n\u001b[0;32m----> 3\u001b[0m \u001b[38;5;28mprint\u001b[39m(\u001b[38;5;124m\"\u001b[39m\u001b[38;5;124mShape of state:\u001b[39m\u001b[38;5;124m\"\u001b[39m, \u001b[43menv\u001b[49m\u001b[38;5;241;43m.\u001b[39;49m\u001b[43mstate_shape\u001b[49m)\n\u001b[1;32m      4\u001b[0m \u001b[38;5;28mprint\u001b[39m(\u001b[38;5;124m\"\u001b[39m\u001b[38;5;124mShape of action:\u001b[39m\u001b[38;5;124m\"\u001b[39m, env\u001b[38;5;241m.\u001b[39maction_shape)\n",
      "\u001b[0;31mAttributeError\u001b[0m: 'TuteEnv' object has no attribute 'state_shape'"
     ]
    }
   ],
   "source": [
    "print(\"Number of actions:\", env.num_actions)\n",
    "print(\"Number of players:\", env.num_players)\n",
    "print(\"Shape of state:\", env.state_shape)\n",
    "print(\"Shape of action:\", env.action_shape)"
   ]
  },
  {
   "cell_type": "code",
   "execution_count": 16,
   "id": "0fb89042",
   "metadata": {},
   "outputs": [],
   "source": [
    "agent = RandomAgent(num_actions=env.num_actions)\n",
    "env.set_agents([agent for _ in range(env.num_players)])"
   ]
  },
  {
   "cell_type": "code",
   "execution_count": 17,
   "id": "eec6baae",
   "metadata": {},
   "outputs": [
    {
     "ename": "TypeError",
     "evalue": "list indices must be integers or slices, not NoneType",
     "output_type": "error",
     "traceback": [
      "\u001b[0;31m---------------------------------------------------------------------------\u001b[0m",
      "\u001b[0;31mTypeError\u001b[0m                                 Traceback (most recent call last)",
      "Input \u001b[0;32mIn [17]\u001b[0m, in \u001b[0;36m<cell line: 1>\u001b[0;34m()\u001b[0m\n\u001b[0;32m----> 1\u001b[0m trajectories, player_wins \u001b[38;5;241m=\u001b[39m \u001b[43menv\u001b[49m\u001b[38;5;241;43m.\u001b[39;49m\u001b[43mrun\u001b[49m\u001b[43m(\u001b[49m\u001b[43mis_training\u001b[49m\u001b[38;5;241;43m=\u001b[39;49m\u001b[38;5;28;43;01mFalse\u001b[39;49;00m\u001b[43m)\u001b[49m\n",
      "File \u001b[0;32m~/.local/share/virtualenvs/huggingface-OfWfm_Zx/lib/python3.10/site-packages/rlcard/envs/env.py:140\u001b[0m, in \u001b[0;36mEnv.run\u001b[0;34m(self, is_training)\u001b[0m\n\u001b[1;32m    137\u001b[0m state, player_id \u001b[38;5;241m=\u001b[39m \u001b[38;5;28mself\u001b[39m\u001b[38;5;241m.\u001b[39mreset()\n\u001b[1;32m    139\u001b[0m \u001b[38;5;66;03m# Loop to play the game\u001b[39;00m\n\u001b[0;32m--> 140\u001b[0m \u001b[43mtrajectories\u001b[49m\u001b[43m[\u001b[49m\u001b[43mplayer_id\u001b[49m\u001b[43m]\u001b[49m\u001b[38;5;241m.\u001b[39mappend(state)\n\u001b[1;32m    141\u001b[0m \u001b[38;5;28;01mwhile\u001b[39;00m \u001b[38;5;129;01mnot\u001b[39;00m \u001b[38;5;28mself\u001b[39m\u001b[38;5;241m.\u001b[39mis_over():\n\u001b[1;32m    142\u001b[0m     \u001b[38;5;66;03m# Agent plays\u001b[39;00m\n\u001b[1;32m    143\u001b[0m     \u001b[38;5;28;01mif\u001b[39;00m \u001b[38;5;129;01mnot\u001b[39;00m is_training:\n",
      "\u001b[0;31mTypeError\u001b[0m: list indices must be integers or slices, not NoneType"
     ]
    }
   ],
   "source": [
    "trajectories, player_wins = env.run(is_training=False)"
   ]
  },
  {
   "cell_type": "code",
   "execution_count": null,
   "id": "b815ed57",
   "metadata": {},
   "outputs": [],
   "source": []
  }
 ],
 "metadata": {
  "kernelspec": {
   "display_name": "huggingface",
   "language": "python",
   "name": "huggingface"
  },
  "language_info": {
   "codemirror_mode": {
    "name": "ipython",
    "version": 3
   },
   "file_extension": ".py",
   "mimetype": "text/x-python",
   "name": "python",
   "nbconvert_exporter": "python",
   "pygments_lexer": "ipython3",
   "version": "3.10.4"
  },
  "toc": {
   "base_numbering": 1,
   "nav_menu": {},
   "number_sections": true,
   "sideBar": true,
   "skip_h1_title": false,
   "title_cell": "Table of Contents",
   "title_sidebar": "Contents",
   "toc_cell": false,
   "toc_position": {},
   "toc_section_display": true,
   "toc_window_display": false
  }
 },
 "nbformat": 4,
 "nbformat_minor": 5
}
